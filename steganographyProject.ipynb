{
 "cells": [
  {
   "cell_type": "code",
   "execution_count": 29,
   "metadata": {},
   "outputs": [],
   "source": [
    "#Steganography project\n",
    "#Zachary Miles\n",
    "#This notebook was designed to run in Python 3, if the notebook is to be run in \n",
    "#Python 2, four small changes must be made, two in the stegWrite function and two in the stegRead\n",
    "#function regarding fixing the operator for integer division. \n",
    "#Each line that needs a fix for Python 2 is marked with a comment labeled 'WARNING:'\n",
    "from PIL import Image\n",
    "import random\n",
    "imag = \"Enter a filepath for an image to hide information in here\"\n",
    "sour = \"Enter a filepath for a text file containing a message here\""
   ]
  },
  {
   "cell_type": "code",
   "execution_count": 25,
   "metadata": {},
   "outputs": [],
   "source": [
    "#Returns a string containing all text in an input file\n",
    "#Requires a filepath for an argument\n",
    "def readFile(path):\n",
    "    fileString = \"\"\n",
    "    for line in open(path):\n",
    "        line = line.replace(\"\\n\", \" \")\n",
    "        fileString += line\n",
    "    return fileString"
   ]
  },
  {
   "cell_type": "code",
   "execution_count": 26,
   "metadata": {},
   "outputs": [
    {
     "data": {
      "text/plain": [
       "883446"
      ]
     },
     "execution_count": 26,
     "metadata": {},
     "output_type": "execute_result"
    }
   ],
   "source": [
    "#Generates an integer to seed a random number generator from a string input\n",
    "def createSeed(stri):\n",
    "    i = 1\n",
    "    for c in stri:\n",
    "        i = (i + ord(c))*3\n",
    "    return i\n",
    "createSeed(\"Seedtest\")"
   ]
  },
  {
   "cell_type": "code",
   "execution_count": 27,
   "metadata": {},
   "outputs": [],
   "source": [
    "#Function to hide information within an image\n",
    "#sourcepath should be a path to a textfile with the information to hide\n",
    "#The source information should be 8 KB or less for the function to work properly\n",
    "#imagepath should be a path to an image to use for hiding information\n",
    "#genSeed should be a string paraphrase which will be used to seed the random number generator for the function\n",
    "#destPath defines where the resulting image with the hidden data will be saved at\n",
    "#By default, this function reads information from a file, but removing the readFile function from the first line and\n",
    "#assigning sourcepath directly to stri will allow you to pass a string directly to the function to test more easily\n",
    "def stegWrite(sourcepath, imagepath, genSeed, destPath):\n",
    "    stri = readFile(sourcepath) #Removing the read file function here and simply assigning sourcepath to stri will allow for a message to be directly passed to the function\n",
    "    bina = \"\"\n",
    "    for i in stri:\n",
    "        ch = format(ord(i), 'b') #convert each character in input to binary ascii value\n",
    "        if len(ch) < 7:\n",
    "            ch = \"0\" + ch\n",
    "        bina = bina + ch\n",
    "    pict = Image.open(imagepath)\n",
    "    binsize = len(bina) #record number of bits of input text\n",
    "    print(pict.format, pict.size, binsize)\n",
    "    random.seed(createSeed(genSeed))\n",
    "    si = bin(binsize)[2:] #convert number of bits to binary\n",
    "    while len(si) < 16:\n",
    "        si = \"0\" + si #add leading zero to number of bits in binary to ensure there is consistently 16 bits to read\n",
    "    px = pict.load()\n",
    "    matrix = [[0 for h in range(pict.size[1])] for w in range(pict.size[0])] #This matrix will be used to keep track of duplicate pixels\n",
    "    #add number of bits to random pixels in image\n",
    "    prog = 0\n",
    "    while prog < 16:\n",
    "        loc = random.randint(0, 1000000000000000000000000000000000000000000000000000000000000000000000000)\n",
    "        i = loc//pict.size[1]%pict.size[0] #WARNING: If this program is run on Python 2 the division operator must be changed to '/' to do integer division\n",
    "        j = loc%pict.size[1]\n",
    "        p = px[i, j]\n",
    "        n = 0\n",
    "        if si[prog] == '0':\n",
    "            n = p[0] & 254 #highest possible RGB value is 255/11111111, so & 254/11111110 should only change the last bit of any possible value\n",
    "        else:\n",
    "            n = p[0] | 1\n",
    "        k = matrix[i][j]\n",
    "        #The value of k tells us how many times the chosen pixel has been used before\n",
    "        if k == 0:\n",
    "            px[i, j] = (n, p[1], p[2]) #The first time a pixel is chosen, the bit is assigned to the R value\n",
    "            matrix[i][j] = 1\n",
    "            prog = prog + 1\n",
    "        elif k == 1:\n",
    "            px[i, j] = (p[0], n, p[2]) #The second time a pixel is chosen, the bit is assinged to the G value\n",
    "            matrix[i][j] = 2\n",
    "            prog = prog + 1\n",
    "        elif k == 2:\n",
    "            px[i, j] = (p[0], p[1], n) #The third time a pixel is chosen, the bit is assigned to the B value\n",
    "            matrix[i][j] = 3\n",
    "            prog = prog + 1    \n",
    "    #add message to random pixels in image\n",
    "    prog = 0\n",
    "    while prog < binsize:\n",
    "        loc = random.randint(0, 1000000000000000000000000000000000000000000000000000000000000000000000000)\n",
    "        i = loc//pict.size[1]%pict.size[0] #WARNING: If this program is run on Python 2 the division operator must be changed to '/' to do integer division\n",
    "        j = loc%pict.size[1]\n",
    "        p = px[i, j]\n",
    "        n = 0\n",
    "        if bina[prog] == '0':\n",
    "            n = p[0] & 254 #highest possible RGB value is 255/11111111, so & 254/11111110 should only change the last bit of any possible value\n",
    "        else:\n",
    "            n = p[0] | 1\n",
    "        k = matrix[i][j]\n",
    "        #The value of k tells us how many times the chosen pixel has been used before\n",
    "        if k == 0:\n",
    "            px[i, j] = (n, p[1], p[2]) #The first time a pixel is chosen, the bit is assigned to the R value\n",
    "            matrix[i][j] = 1\n",
    "            prog = prog + 1\n",
    "        elif k == 1:\n",
    "            px[i, j] = (p[0], n, p[2]) #The second time a pixel is chosen, the bit is assinged to the G value\n",
    "            matrix[i][j] = 2\n",
    "            prog = prog + 1\n",
    "        elif k == 2:\n",
    "            px[i, j] = (p[0], p[1], n) #The third time a pixel is chosen, the bit is assigned to the B value\n",
    "            matrix[i][j] = 3\n",
    "            prog = prog + 1\n",
    "    pict.save(destPath)\n",
    "    print(\"Saved picture to \" + destPath)"
   ]
  },
  {
   "cell_type": "code",
   "execution_count": 30,
   "metadata": {},
   "outputs": [
    {
     "name": "stdout",
     "output_type": "stream",
     "text": [
      "PNG (1294, 1286) 6650\n",
      "Saved picture to secret.png\n"
     ]
    }
   ],
   "source": [
    "stegWrite(sour, imag, \"This is a seed\", \"secret.png\")"
   ]
  },
  {
   "cell_type": "code",
   "execution_count": 20,
   "metadata": {},
   "outputs": [],
   "source": [
    "#Function to read information from an image\n",
    "#imagePath should be a path to the image containing the information to read\n",
    "#genSeed should be a string paraphrase which will be used to seed the random number generator for the function\n",
    "def stegRead(imagePath, genSeed):\n",
    "    pict = Image.open(imagePath)\n",
    "    random.seed(createSeed(genSeed))\n",
    "    px = pict.load()\n",
    "    numStr = \"\"\n",
    "    matrix = [[0 for h in range(pict.size[1])] for w in range(pict.size[0])] #matrix to keep track of duplicate pixels\n",
    "    x = 0\n",
    "    #Always retrieves the first 16 bits, this tells us how large the message size is\n",
    "    while x < 16:\n",
    "        loc = random.randint(0, 1000000000000000000000000000000000000000000000000000000000000000000000000)\n",
    "        i = loc//pict.size[1]%pict.size[0] #WARNING: If this program is run on Python 2 the division operator must be changed to '/' to do integer division\n",
    "        j = loc%pict.size[1]\n",
    "        p = px[i, j]\n",
    "        k = matrix[i][j]\n",
    "        #The value of k tells us how many times the chosen pixel has been used before\n",
    "        if k == 0:\n",
    "            numStr += str(p[0] & 1) #The first time a pixel is chosen, we read the bit from the R value\n",
    "            matrix[i][j] = 1\n",
    "            x = x + 1\n",
    "        elif k == 1:\n",
    "            numStr += str(p[1] & 1) #The second time a pixel is chosen, we read the bit from the G value\n",
    "            matrix[i][j] = 2\n",
    "            x = x + 1\n",
    "        elif k == 2:\n",
    "            numStr += str(p[2] & 1) #The third time a pixel is chosen, we read the bit from the B value\n",
    "            matrix[i][j] = 3\n",
    "            x = x + 1\n",
    "    num = int(numStr, 2)\n",
    "    x = 0\n",
    "    binMessage = \"\"\n",
    "    #Using the message size, we can now read out and build the message from the picture\n",
    "    while x < num:\n",
    "        loc = random.randint(0, 1000000000000000000000000000000000000000000000000000000000000000000000000)\n",
    "        i = loc//pict.size[1]%pict.size[0] #WARNING: If this program is run on Python 2 the division operator must be changed to '/' to do integer division\n",
    "        j = loc%pict.size[1]\n",
    "        p = px[i, j]\n",
    "        k = matrix[i][j]\n",
    "        #The value of k tells us how many times the chosen pixel has been used before\n",
    "        if k == 0:\n",
    "            binMessage += str(p[0] & 1) #The first time a pixel is chosen, we read the bit from the R value\n",
    "            matrix[i][j] = 1\n",
    "            x = x + 1\n",
    "        elif k == 1:\n",
    "            binMessage += str(p[1] & 1) #The second time a pixel is chosen, we read the bit from the G value\n",
    "            matrix[i][j] = 2\n",
    "            x = x + 1\n",
    "        elif k == 2:\n",
    "            binMessage += str(p[2] & 1) #The third time a pixel is chosen, we read the bit from the B value\n",
    "            matrix[i][j] = 3\n",
    "            x = x + 1\n",
    "    #print(binMessage)\n",
    "    message = \"\"\n",
    "    #Builds a message by turning the binary data to the acsii int value, then converting the ascii int value to a character\n",
    "    #and appending it to message\n",
    "    for y in range(0, len(binMessage), 7):\n",
    "        asciiVal = int(binMessage[y:y+7], 2)\n",
    "        message += chr(asciiVal)\n",
    "        #print(chr(asciiVal))\n",
    "    #print(message)\n",
    "    return message"
   ]
  },
  {
   "cell_type": "code",
   "execution_count": 31,
   "metadata": {},
   "outputs": [
    {
     "data": {
      "text/plain": [
       "\"Vader: You are beaten. It is useless to resist. Don't let yourself be destroyed as Obi-Wan did. Vader: There is no escape. Don't make me destroy you. Luke, you do not yet realize your importance. You've only begun to discover your power. Join me, and I will complete your training. With our combined strength, we can end this destructive conflict and bring order to the galaxy! Luke: I'll never join you! Vader: If only you knew the power of the dark side. Obi-Wan never told you what happened to your father. Luke: He told me enough. He told me you killed him. Vader: No. I am your father. Luke: No. No That's not true! That's impossible! Vader: Search your feelings you know it to be true! Luke: NO!!! NO!!! Vader: Luke, you can destroy the emperor. He has foreseen this. It is your destiny. Join me, and together, we can rule the galaxy as father and son! Come with me, it is the only way. [Luke lets go of the projection and falls into the shaft]\""
      ]
     },
     "execution_count": 31,
     "metadata": {},
     "output_type": "execute_result"
    }
   ],
   "source": [
    "stegRead(\"secret.png\", \"This is a seed\")"
   ]
  }
 ],
 "metadata": {
  "kernelspec": {
   "display_name": "Python 3",
   "language": "python",
   "name": "python3"
  },
  "language_info": {
   "codemirror_mode": {
    "name": "ipython",
    "version": 3
   },
   "file_extension": ".py",
   "mimetype": "text/x-python",
   "name": "python",
   "nbconvert_exporter": "python",
   "pygments_lexer": "ipython3",
   "version": "3.7.3"
  }
 },
 "nbformat": 4,
 "nbformat_minor": 2
}
